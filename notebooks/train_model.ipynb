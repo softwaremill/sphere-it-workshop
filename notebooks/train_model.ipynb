{
 "cells": [
  {
   "cell_type": "markdown",
   "id": "93ec594d-d28c-4637-b8f7-d70084650e91",
   "metadata": {},
   "source": [
    "## Download data"
   ]
  },
  {
   "cell_type": "code",
   "execution_count": null,
   "id": "539d7698-6a55-4801-be45-5c49c23b90a3",
   "metadata": {},
   "outputs": [],
   "source": [
    "!gdown 1Qv-wJdXkOAwDwRf3lFOiL9Hjm7sO-c74 -O ../data/imdb_part_1.csv\n",
    "!gdown 1nyIDGh7bpzYq0rWgOh_4pYVq1zoGcrlL -O ../data/stopwords.txt"
   ]
  },
  {
   "cell_type": "markdown",
   "id": "0586ffe8-97e4-4604-9aec-12abe8b2b75c",
   "metadata": {},
   "source": [
    "## Config"
   ]
  },
  {
   "cell_type": "code",
   "execution_count": null,
   "id": "bf8ff39a-267b-45bc-82e6-e4bd573898c2",
   "metadata": {},
   "outputs": [],
   "source": [
    "config = {\n",
    "    \"vectorizer\": {\n",
    "        \"max_features\": 100,\n",
    "        \"min_df\": 0.05,\n",
    "    }\n",
    "}"
   ]
  },
  {
   "cell_type": "code",
   "execution_count": null,
   "id": "bc21100f-2033-4c13-9993-6501d0c6cd9c",
   "metadata": {},
   "outputs": [],
   "source": [
    "with open(\"../data/stopwords.txt\", \"r\") as stopwords_file:\n",
    "    stop_words = [line.strip() for line in stopwords_file.readlines()]\n",
    "config[\"vectorizer\"][\"stop_words\"] = stop_words"
   ]
  },
  {
   "cell_type": "markdown",
   "id": "45a66467-d56c-47dd-8852-980c76c00f37",
   "metadata": {},
   "source": [
    "## Read Data"
   ]
  },
  {
   "cell_type": "code",
   "execution_count": null,
   "id": "0a6fff94-2f8d-43b5-99ca-34612ededf14",
   "metadata": {},
   "outputs": [],
   "source": [
    "import pandas as pd"
   ]
  },
  {
   "cell_type": "code",
   "execution_count": null,
   "id": "c169cece-d948-4af0-9eb1-38b4c5a2b75f",
   "metadata": {},
   "outputs": [],
   "source": [
    "df = pd.read_csv(\"../data/imdb_part_1.csv\")"
   ]
  },
  {
   "cell_type": "code",
   "execution_count": null,
   "id": "1f42cc15-4c34-4d42-8483-57ab885e9363",
   "metadata": {},
   "outputs": [],
   "source": [
    "df"
   ]
  },
  {
   "cell_type": "code",
   "execution_count": null,
   "id": "e9f52cd8-fb69-4f70-b299-c0dfa668663e",
   "metadata": {},
   "outputs": [],
   "source": [
    "texts = df.review.tolist()\n",
    "labels = [int(label=='positive') for label in df.sentiment.tolist()]"
   ]
  },
  {
   "cell_type": "markdown",
   "id": "0800821e-e41e-4b0b-9d55-324be4276ef1",
   "metadata": {},
   "source": [
    "## Train/Test split"
   ]
  },
  {
   "cell_type": "code",
   "execution_count": null,
   "id": "e802519b-cdf2-482b-8391-758b458ba9e9",
   "metadata": {},
   "outputs": [],
   "source": [
    "from sklearn.model_selection import train_test_split"
   ]
  },
  {
   "cell_type": "code",
   "execution_count": null,
   "id": "7ba5b8f0-d9b7-4275-bdb3-6df9fd0769bd",
   "metadata": {},
   "outputs": [],
   "source": [
    "texts_train, texts_test, labels_train, labels_test = train_test_split(texts, labels, test_size=0.2, random_state=42)"
   ]
  },
  {
   "cell_type": "code",
   "execution_count": null,
   "id": "bcaa514f-bc0e-4b80-9be3-2ae66ff7b941",
   "metadata": {},
   "outputs": [],
   "source": [
    "from sklearn.feature_extraction.text import TfidfVectorizer\n",
    "from sklearn.metrics import accuracy_score"
   ]
  },
  {
   "cell_type": "markdown",
   "id": "f8514657-7878-425b-ba86-ab554e771e19",
   "metadata": {},
   "source": [
    "## Vectorizer"
   ]
  },
  {
   "cell_type": "code",
   "execution_count": null,
   "id": "dc9fd094-3dc9-4dca-991d-fe978f77faaa",
   "metadata": {},
   "outputs": [],
   "source": [
    "vectorizer = TfidfVectorizer(**config[\"vectorizer\"])"
   ]
  },
  {
   "cell_type": "code",
   "execution_count": null,
   "id": "ced6477c-29f9-4921-934a-586c9acf37ff",
   "metadata": {},
   "outputs": [],
   "source": [
    "X_train = vectorizer.fit_transform(texts_train)\n",
    "X_test = vectorizer.transform(texts_test)"
   ]
  },
  {
   "cell_type": "code",
   "execution_count": null,
   "id": "66738d4c-50f8-4d88-bee7-9041deb8c7ab",
   "metadata": {
    "scrolled": true
   },
   "outputs": [],
   "source": [
    "vectorizer.vocabulary_"
   ]
  },
  {
   "cell_type": "markdown",
   "id": "8aa18e49-81b6-4349-b604-1e75cc59d570",
   "metadata": {},
   "source": [
    "## Train model"
   ]
  },
  {
   "cell_type": "code",
   "execution_count": null,
   "id": "f79b8501-a784-45e5-ad9d-b8f78d0b867e",
   "metadata": {},
   "outputs": [],
   "source": [
    "import xgboost as xgb"
   ]
  },
  {
   "cell_type": "code",
   "execution_count": null,
   "id": "bf8029d3-f3ef-4fd1-829f-b9ec2a0668a1",
   "metadata": {},
   "outputs": [],
   "source": [
    "model = xgb.XGBClassifier(n_jobs=-1)"
   ]
  },
  {
   "cell_type": "code",
   "execution_count": null,
   "id": "16120ef6-8a51-45aa-b227-ebebf5d33a31",
   "metadata": {},
   "outputs": [],
   "source": [
    "model.fit(X_train, labels_train)"
   ]
  },
  {
   "cell_type": "markdown",
   "id": "a75ce951-7697-4d4d-b278-9127f5321961",
   "metadata": {},
   "source": [
    "## Predict on test"
   ]
  },
  {
   "cell_type": "code",
   "execution_count": null,
   "id": "349a558c-c31e-47f7-8e03-0740520c5db2",
   "metadata": {},
   "outputs": [],
   "source": [
    "predictions = model.predict(X_test)"
   ]
  },
  {
   "cell_type": "code",
   "execution_count": null,
   "id": "966b4b6a-0d41-458d-b825-d5595ca0c1ad",
   "metadata": {},
   "outputs": [],
   "source": [
    "accuracy = accuracy_score(labels_test, predictions)"
   ]
  },
  {
   "cell_type": "code",
   "execution_count": null,
   "id": "3fcf30cd-abc6-4861-b4d8-b05c9793cb85",
   "metadata": {},
   "outputs": [],
   "source": [
    "accuracy"
   ]
  }
 ],
 "metadata": {
  "kernelspec": {
   "display_name": "Python 3 (ipykernel)",
   "language": "python",
   "name": "python3"
  },
  "language_info": {
   "codemirror_mode": {
    "name": "ipython",
    "version": 3
   },
   "file_extension": ".py",
   "mimetype": "text/x-python",
   "name": "python",
   "nbconvert_exporter": "python",
   "pygments_lexer": "ipython3",
   "version": "3.12.6"
  }
 },
 "nbformat": 4,
 "nbformat_minor": 5
}
